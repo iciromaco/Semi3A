{
  "nbformat": 4,
  "nbformat_minor": 0,
  "metadata": {
    "colab": {
      "name": "膨張収縮と輪郭線抽出",
      "provenance": [],
      "authorship_tag": "ABX9TyNgAWE26F0cDaMPegnBdyYg",
      "include_colab_link": true
    },
    "kernelspec": {
      "name": "python3",
      "display_name": "Python 3"
    }
  },
  "cells": [
    {
      "cell_type": "markdown",
      "metadata": {
        "id": "view-in-github",
        "colab_type": "text"
      },
      "source": [
        "<a href=\"https://colab.research.google.com/github/iciromaco/Semi3A/blob/master/L5/%E8%86%A8%E5%BC%B5%E5%8F%8E%E7%B8%AE%E3%81%A8%E8%BC%AA%E9%83%AD%E7%B7%9A%E6%8A%BD%E5%87%BA.ipynb\" target=\"_parent\"><img src=\"https://colab.research.google.com/assets/colab-badge.svg\" alt=\"Open In Colab\"/></a>"
      ]
    },
    {
      "cell_type": "markdown",
      "metadata": {
        "id": "Br5bZuErT6Aw",
        "colab_type": "text"
      },
      "source": [
        "## ２値画像の膨張・収縮によるノイズ除去と輪郭線抽出\n",
        "## **目的**\n",
        "\n",
        "　形状解析や物体識別において、オブジェクトの輪郭あるいはシルエットは重要な特徴となる。\n",
        "　対象のみが白で背景が黒、あるいはその逆であるような理想的な画像から輪郭線を得るのは容易であるが、実際の画像には、ノイズの混入があったり、取り出したい対象以外のものが写りこんでいたりする。ノイズを除去し、対象の輪郭のみを取り出すためのテクニックを学ぼう。\n",
        "\n",
        "1. 実際の画像に対して２値の膨張・収縮処理を行い、その基本的性質を理解する。\n",
        "2. 輪郭線抽出と多角形近似処理の基本的な処理プログラムについて理解する。\n",
        "\n",
        "## **基本的な膨張・収縮処理**\n",
        "\n",
        "- 膨張処理  \n",
        "- 収縮処理  \n",
        "- 膨張収縮によるノイズ除去  \n",
        "\n",
        "　このそれぞれに\n",
        "- ８近傍処理\n",
        "- ４近傍処理  \n",
        "\n",
        "があり、結果は違ってくる。\n",
        "\n",
        "**膨張収縮によるノイズ除去**は、\n",
        "\n",
        "- 膨張後収縮\n",
        "- 収縮後膨張\n",
        "\n",
        "のバリエーションがある。\n",
        "\n"
      ]
    },
    {
      "cell_type": "code",
      "metadata": {
        "id": "SsByS0d4T4Dm",
        "colab_type": "code",
        "colab": {}
      },
      "source": [
        "import urllib.request\n",
        "import cv2\n",
        "import numpy as np\n",
        "from matplotlib import pyplot as plt\n",
        "from google.colab.patches import cv2_imshow\n",
        "from google.colab import files\n",
        "\n",
        "# url = \"https://user-images.githubusercontent.com/5820803/81074733-6556bf80-8f24-11ea-87c8-937e09b417ac.jpg\" # cross"
      ],
      "execution_count": 0,
      "outputs": []
    },
    {
      "cell_type": "markdown",
      "metadata": {
        "id": "NFF5JWmWUUc6",
        "colab_type": "text"
      },
      "source": [
        "# 処理対象画像の入力\n",
        "\n",
        "![twoway](https://user-images.githubusercontent.com/5820803/81167986-22065a80-8fd1-11ea-8f3a-817b982afdf2.png)\n",
        "\n",
        "入力方法を３つ用意してある。\n",
        "\n",
        "1. URL指定\n",
        "2. 即時アップロード  \n",
        "3. 事前アップロード\n",
        "\n",
        "#### **1. URL指定による画像入力**\n",
        "\n",
        "　画像そのもののURLを指定する。サイトによっては、直リンでは画像を表示させてくれないサイトもあるので注意。\n",
        "\n",
        "#### **2. 即時アップロード**\n",
        "\n",
        "ペイントソフト等で作った画像を使う場合や、パソコン内にある白黒画像を処理対象にする場合は、「アップロード」を選べ。\n",
        "\n",
        "#### **3. 事前アップロード**\n",
        "\n",
        "　左のブラウズエリアで、事前に画像ファイルをアップロードしておく方法。\n",
        "\n",
        "## 処理対象画像の前提\n",
        "\n",
        "<font color=red>背景が白、対象が黒であることを前提としている。\n",
        "\n",
        "背景が黒の場合は、**反転** にチェックを入れてセルを実行せよ。></font>"
      ]
    },
    {
      "cell_type": "code",
      "metadata": {
        "id": "jOeBprEdUJJC",
        "colab_type": "code",
        "colab": {
          "base_uri": "https://localhost:8080/",
          "height": 565
        },
        "outputId": "01205a63-2533-49ef-bcb7-fa563130744d"
      },
      "source": [
        "# 処理対象画像の指定\n",
        "画像入力方法 = \"URL\\u6307\\u5B9A\"  #@param [\"アップロード\",\"事前アップロード\", \"URL指定\"]\n",
        "url=\"https://bit.ly/3frmgPm\" #@param {type:\"string\"}\n",
        "ファイル名を入力してください=\"cross.png\" #@param {type:\"string\"}\n",
        "if 画像入力方法 == \"アップロード\":\n",
        "  filename = list(files.upload())[0]\n",
        "  img = cv2.imread(filename,1) # カラーで読み込み\n",
        "elif 画像入力方法 == \"事前アップロード\":\n",
        "  filename = ファイル名を入力してください\n",
        "  img = cv2.imread(filename,1) # カラーで読み込み\n",
        "else: # URLからのダウンロード\n",
        "  img_path, header = urllib.request.urlretrieve(url)\n",
        "  img = cv2.imread(img_path,1)  \n",
        "  filename = ファイル名を入力してください\n",
        "反転 = False #@param {type:\"boolean\", min:1, max:30, step:1}\n",
        "gry = cv2.cvtColor(img,cv2.COLOR_BGR2GRAY) # グレイスケールに変換\n",
        "if 反転:\n",
        "  gry = 255-gry\n",
        "gry = cv2.resize(gry,(256,256)) # 256x256にリサイズ\n",
        "cv2_imshow(img)\n",
        "print(\"図A-1　cross.jpg\")\n",
        "hist = cv2.calcHist([gry],[0],None,[256],[0,256])\n",
        "plt.hist(gry.ravel(),256,[0,256]); plt.show()\n",
        "print(\"図A-2　coss.jpg のヒストグラム\")"
      ],
      "execution_count": 2,
      "outputs": [
        {
          "output_type": "display_data",
          "data": {
            "image/png": "[encoded data removed]",
            "text/plain": [
              "<PIL.Image.Image image mode=RGB size=256x266 at 0x7F116F256D30>"
            ]
          },
          "metadata": {
            "tags": []
          }
        },
        {
          "output_type": "stream",
          "text": [
            "図A-1　cross.jpg\n"
          ],
          "name": "stdout"
        },
        {
          "output_type": "display_data",
          "data": {
            "image/png": "[encoded data removed]",
            "text/plain": [
              "<Figure size 432x288 with 1 Axes>"
            ]
          },
          "metadata": {
            "tags": [],
            "needs_background": "light"
          }
        },
        {
          "output_type": "stream",
          "text": [
            "図A-2　coss.jpg のヒストグラム\n"
          ],
          "name": "stdout"
        }
      ]
    },
    {
      "cell_type": "code",
      "metadata": {
        "id": "4Ht3PqX8WYij",
        "colab_type": "code",
        "colab": {
          "base_uri": "https://localhost:8080/",
          "height": 290
        },
        "outputId": "fb24d3b4-bcf3-4d68-fb19-fba828e7fdf6"
      },
      "source": [
        "# ２階調化\n",
        "ret, bw = cv2.threshold(gry,0,255,cv2.THRESH_BINARY+cv2.THRESH_OTSU)\n",
        "cv2_imshow(bw)\n",
        "print(\"図A-3　coss.jpg を判別分析法によるしきい値 {} で２階調化した画像\".format(ret))"
      ],
      "execution_count": 3,
      "outputs": [
        {
          "output_type": "display_data",
          "data": {
            "image/png": "[encoded data removed]",
            "text/plain": [
              "<PIL.Image.Image image mode=L size=256x256 at 0x7F1178AC4F98>"
            ]
          },
          "metadata": {
            "tags": []
          }
        },
        {
          "output_type": "stream",
          "text": [
            "図A-3　coss.jpg を判別分析法によるしきい値 124.0 で２階調化した画像\n"
          ],
          "name": "stdout"
        }
      ]
    },
    {
      "cell_type": "markdown",
      "metadata": {
        "id": "ls4JuqpcWjeh",
        "colab_type": "text"
      },
      "source": [
        "# 実験対象画像の生成\n",
        "\n",
        "1. 上記２値画像のマージンを増やした画像\n",
        "2. 45度回転した画像\n",
        "3. ノイズを加えた画像\n",
        "\n",
        "を生成する。\n",
        "\n",
        "マージンを増やすのは、回転時と膨張処理時に図形が表示領域外に出る可能性があるため。"
      ]
    },
    {
      "cell_type": "code",
      "metadata": {
        "id": "XV6oCDryWhy-",
        "colab_type": "code",
        "colab": {
          "base_uri": "https://localhost:8080/",
          "height": 1000
        },
        "outputId": "842b29a2-85cd-41a3-d8a4-9833d0b5188c"
      },
      "source": [
        "NNoise = 1000 # ノイズの個数\n",
        "Margin = 70\n",
        "\n",
        "def 実験用画像生成(bw):\n",
        "    # 画像の高さと幅\n",
        "    height = bw.shape[0]                         \n",
        "    width = bw.shape[1]  \n",
        "\n",
        "    # 余白を増やす\n",
        "    timg = 255*np.ones((height+Margin,width+Margin)) # 真っ白の画像\n",
        "    HM = Margin//2\n",
        "    timg[HM:HM+height,HM:HM+width] = bw # 背景が白なので白黒反転\n",
        "\n",
        "    # 中心                          \n",
        "    center = (width//2+HM, height//2+HM)\n",
        "    # 回転行列を作成\n",
        "    rmatrix = cv2.getRotationMatrix2D(center, -45.0 , 1.0)\n",
        "    #アフィン変換で４５度回転した画像を作成\n",
        "    bw45 = (255-cv2.warpAffine(255-timg, rmatrix,(width+Margin,height+Margin)))\n",
        "\n",
        "    # ノイズ画像の生成\n",
        "    nbw = bw45.copy()\n",
        "    pts_x = np.random.randint(0, width+Margin-1 , NNoise) # 0から(col-1)までの乱数をNNoise個作る\n",
        "    pts_y = np.random.randint(0, height+Margin-1 , NNoise)\n",
        "    for n in range(NNoise):\n",
        "      x = pts_x[n]\n",
        "      y = pts_y[n]\n",
        "      for i in range(np.random.randint(0, 5)):\n",
        "        rx = np.random.randint(-1, 2)\n",
        "        ry = np.random.randint(-1, 2)\n",
        "        x = x if x + rx < 0 or x + rx >= width+Margin else x + rx\n",
        "        y = y if y + ry < 0 or y + ry >= height+Margin else y + ry\n",
        "        nbw[y,x] = 255-nbw[y,x] # 反転する\n",
        "\n",
        "    return timg,bw45,nbw\n",
        "\n",
        "bw0,bw45,nbw = 実験用画像生成(bw)\n",
        "\n",
        "cv2_imshow(bw0)\n",
        "print(\"図A-4　マージンを増した２値画像\")\n",
        "\n",
        "cv2_imshow(bw45)\n",
        "print(\"図A-5　45度回転した画像\")\n",
        "\n",
        "cv2_imshow(nbw)\n",
        "print(\"図A-6　ノイズを加えた画像\")"
      ],
      "execution_count": 4,
      "outputs": [
        {
          "output_type": "display_data",
          "data": {
            "image/png": "[encoded data removed]",
            "text/plain": [
              "<PIL.Image.Image image mode=L size=326x326 at 0x7F116E598940>"
            ]
          },
          "metadata": {
            "tags": []
          }
        },
        {
          "output_type": "stream",
          "text": [
            "図A-4　マージンを増した２値画像\n"
          ],
          "name": "stdout"
        },
        {
          "output_type": "display_data",
          "data": {
            "image/png": "[encoded data removed]",
            "text/plain": [
              "<PIL.Image.Image image mode=L size=326x326 at 0x7F116E5987B8>"
            ]
          },
          "metadata": {
            "tags": []
          }
        },
        {
          "output_type": "stream",
          "text": [
            "図A-5　45度回転した画像\n"
          ],
          "name": "stdout"
        },
        {
          "output_type": "display_data",
          "data": {
            "image/png": "[encoded data removed]",
            "text/plain": [
              "<PIL.Image.Image image mode=L size=326x326 at 0x7F116E598940>"
            ]
          },
          "metadata": {
            "tags": []
          }
        },
        {
          "output_type": "stream",
          "text": [
            "図A-6　ノイズを加えた画像\n"
          ],
          "name": "stdout"
        }
      ]
    },
    {
      "cell_type": "markdown",
      "metadata": {
        "id": "v-vHnthoXEsV",
        "colab_type": "text"
      },
      "source": [
        "# 実験１　　膨張収縮によるノイズ除去\n",
        "\n",
        "<font color=red>膨張回数と収縮回数を変えるとどうなるか試しましょう。\n",
        "\n",
        "一番うまくノイズが消える組み合わせを報告してください。</font>\n",
        "\n",
        "膨張と収縮には\n",
        "- ４近傍処理  \n",
        "- ８近傍処理\n",
        "\n",
        "の２通りがある。ここでは４近傍処理を使ってみる。\n",
        "\n",
        "また、ノイズ除去の手順としては、\n",
        "\n",
        "- 膨張してから収縮（穴を閉じてからゴミを除去）\n",
        "- 収縮してから膨張（上の逆）\n",
        "\n",
        "の２通りが考えられる。\n",
        "\n",
        "これについても、膨張→収縮のみプログラムを示す。\n",
        "\n",
        "【課題】\n",
        "\n",
        "　繰り返し回数を変えてみて、今回の実験に用いたノイズに対しては、何回ずつ実行するのが最適であるかを調べなさい。\n",
        "\n",
        "【発展課題】\n",
        "\n",
        "　膨張には４近傍処理を用い、収縮には８近傍処理を用いる、などのバリエーションを考えると、８通りのバリエーションが考えられる。\n",
        "\n",
        "　余裕があれば、すべて試してみよ。"
      ]
    },
    {
      "cell_type": "code",
      "metadata": {
        "id": "D7xQNcWSWuBU",
        "colab_type": "code",
        "colab": {
          "base_uri": "https://localhost:8080/",
          "height": 1000
        },
        "outputId": "403a4aee-4eaf-4e45-b89c-c453cb01969f"
      },
      "source": [
        "neiborhood8 = np.ones((3,3),np.uint8)\n",
        "neiborhood4 = np.array([[0, 1, 0],[1, 1, 1],[0, 1, 0]],np.uint8)\n",
        "膨張回数 = 1 #@param {type:\"slider\", min:1, max:10, step:1}\n",
        "収縮回数 = 1 #@param {type:\"slider\", min:1, max:10, step:1}\n",
        "\n",
        "dilation4 = cv2.erode(nbw,neiborhood4,iterations = 膨張回数 )\n",
        "cv2_imshow(250*(dilation4/255))\n",
        "print(\"　　　　　図A-07　{}回膨張後（４近傍処理）\".format(膨張回数))\n",
        "erode4 = cv2.dilate(dilation4,neiborhood8,iterations = 収縮回数 )\n",
        "cv2_imshow(250*(erode4/255))\n",
        "print(\"　　　　　図A-08　{}回収縮後（４近傍処理）\".format(収縮回数))\n",
        "median = cv2.medianBlur(erode4.astype(np.uint8),5)\n",
        "cv2_imshow(250*(median/255))\n",
        "print(\"　　　　　図A-09　ミディアンフィルタ適用\")"
      ],
      "execution_count": 5,
      "outputs": [
        {
          "output_type": "display_data",
          "data": {
            "image/png": "[encoded data removed]",
            "text/plain": [
              "<PIL.Image.Image image mode=L size=326x326 at 0x7F116E6068D0>"
            ]
          },
          "metadata": {
            "tags": []
          }
        },
        {
          "output_type": "stream",
          "text": [
            "　　　　　図A-07　1回膨張後（４近傍処理）\n"
          ],
          "name": "stdout"
        },
        {
          "output_type": "display_data",
          "data": {
            "image/png": "[encoded data removed]",
            "text/plain": [
              "<PIL.Image.Image image mode=L size=326x326 at 0x7F116E6067F0>"
            ]
          },
          "metadata": {
            "tags": []
          }
        },
        {
          "output_type": "stream",
          "text": [
            "　　　　　図A-08　1回収縮後（４近傍処理）\n"
          ],
          "name": "stdout"
        },
        {
          "output_type": "display_data",
          "data": {
            "image/png": "[encoded data removed]",
            "text/plain": [
              "<PIL.Image.Image image mode=L size=326x326 at 0x7F116E6067F0>"
            ]
          },
          "metadata": {
            "tags": []
          }
        },
        {
          "output_type": "stream",
          "text": [
            "　　　　　図A-09　ミディアンフィルタ適用\n"
          ],
          "name": "stdout"
        }
      ]
    },
    {
      "cell_type": "markdown",
      "metadata": {
        "id": "84GoweXLb6OV",
        "colab_type": "text"
      },
      "source": [
        "# 実験２　輪郭線抽出\n",
        "\n",
        "\n"
      ]
    },
    {
      "cell_type": "code",
      "metadata": {
        "id": "mkRhipsIXsFB",
        "colab_type": "code",
        "colab": {
          "base_uri": "https://localhost:8080/",
          "height": 360
        },
        "outputId": "1cc13c86-14ec-4716-dcb0-690d4ca9b68f"
      },
      "source": [
        "def getContour(img, mode=cv2.CHAIN_APPROX_NONE):\n",
        "    # mode: cv2.CHAIN_APPROX_SIMPLE -> 多角形近似、cv2.CHAIN_APPROX_NONE -> 近似なし\n",
        "    # 輪郭情報 主白連結成分の輪郭点列のみ返す関数\n",
        "    img = 255-img\n",
        "    contours, _hierarchy = cv2.findContours(img, cv2.RETR_EXTERNAL, mode) # 輪郭線追跡\n",
        "    cnt00 = contours[np.argmax([len(c) for c in contours])] # 最も長い輪郭\n",
        "    print([len(c) for c in contours] )\n",
        "    return cnt00\n",
        "\n",
        "con = getContour(median)\n",
        "h,w = median.shape[:2]\n",
        "canvas = np.zeros((h,w,3),np.uint8)\n",
        "cv2.drawContours(canvas, con, -1, (255,255,0), 5)\n",
        "cv2_imshow(canvas)"
      ],
      "execution_count": 6,
      "outputs": [
        {
          "output_type": "stream",
          "text": [
            "[522]\n"
          ],
          "name": "stdout"
        },
        {
          "output_type": "display_data",
          "data": {
            "image/png": "[encoded data removed]",
            "text/plain": [
              "<PIL.Image.Image image mode=RGB size=326x326 at 0x7F116E606EF0>"
            ]
          },
          "metadata": {
            "tags": []
          }
        }
      ]
    },
    {
      "cell_type": "code",
      "metadata": {
        "id": "A9XFN6O_hpoF",
        "colab_type": "code",
        "colab": {
          "base_uri": "https://localhost:8080/",
          "height": 254
        },
        "outputId": "cd3644dd-d6c1-451a-e945-b1381fac770b"
      },
      "source": [
        "print(\"輪郭線の画素数={}\".format(len(con)))\n",
        "con"
      ],
      "execution_count": 7,
      "outputs": [
        {
          "output_type": "stream",
          "text": [
            "輪郭線の画素数=522\n"
          ],
          "name": "stdout"
        },
        {
          "output_type": "execute_result",
          "data": {
            "text/plain": [
              "array([[[186,  65]],\n",
              "\n",
              "       [[185,  66]],\n",
              "\n",
              "       [[184,  67]],\n",
              "\n",
              "       ...,\n",
              "\n",
              "       [[189,  65]],\n",
              "\n",
              "       [[188,  65]],\n",
              "\n",
              "       [[187,  65]]], dtype=int32)"
            ]
          },
          "metadata": {
            "tags": []
          },
          "execution_count": 7
        }
      ]
    },
    {
      "cell_type": "markdown",
      "metadata": {
        "id": "s75NgkJtjDnZ",
        "colab_type": "text"
      },
      "source": [
        "### 輪郭線の多角形近似"
      ]
    },
    {
      "cell_type": "code",
      "metadata": {
        "id": "cW0aTZ8Uhnpf",
        "colab_type": "code",
        "colab": {
          "base_uri": "https://localhost:8080/",
          "height": 360
        },
        "outputId": "803376dd-0cd8-43e2-a8e1-4ae3ff4a4bfb"
      },
      "source": [
        "# 多角形近似モードで輪郭線抽出\n",
        "aploy = getContour(median,mode=cv2.CHAIN_APPROX_SIMPLE)\n",
        "arclen = cv2.arcLength(aploy,True) # 対象領域が閉曲線の場合、True\n",
        "approx = cv2.approxPolyDP(aploy,0.005*arclen,True)\n",
        "h,w = median.shape[:2]\n",
        "canvas = np.zeros((h,w,3),np.uint8)\n",
        "cv2.drawContours(canvas, [approx], -1, (255,255,0), 3)\n",
        "cv2.drawContours(canvas, approx, -1, (0,0,255), 5)\n",
        "cv2_imshow(canvas)\n"
      ],
      "execution_count": 8,
      "outputs": [
        {
          "output_type": "stream",
          "text": [
            "[74]\n"
          ],
          "name": "stdout"
        },
        {
          "output_type": "display_data",
          "data": {
            "image/png": "[encoded data removed]",
            "text/plain": [
              "<PIL.Image.Image image mode=RGB size=326x326 at 0x7F1178AC4198>"
            ]
          },
          "metadata": {
            "tags": []
          }
        }
      ]
    },
    {
      "cell_type": "code",
      "metadata": {
        "id": "4Z-u63TGiHtK",
        "colab_type": "code",
        "colab": {
          "base_uri": "https://localhost:8080/",
          "height": 458
        },
        "outputId": "f601015f-c13a-4db1-8b42-8532d2b9915a"
      },
      "source": [
        "print(\"近似多角形の超点数={}\".format(len(approx)))\n",
        "approx "
      ],
      "execution_count": 9,
      "outputs": [
        {
          "output_type": "stream",
          "text": [
            "近似多角形の超点数=13\n"
          ],
          "name": "stdout"
        },
        {
          "output_type": "execute_result",
          "data": {
            "text/plain": [
              "array([[[113,  71]],\n",
              "\n",
              "       [[ 75, 111]],\n",
              "\n",
              "       [[105, 145]],\n",
              "\n",
              "       [[ 71, 183]],\n",
              "\n",
              "       [[107, 217]],\n",
              "\n",
              "       [[143, 182]],\n",
              "\n",
              "       [[214, 249]],\n",
              "\n",
              "       [[256, 207]],\n",
              "\n",
              "       [[189, 137]],\n",
              "\n",
              "       [[223,  99]],\n",
              "\n",
              "       [[189,  65]],\n",
              "\n",
              "       [[151,  99]],\n",
              "\n",
              "       [[120,  69]]], dtype=int32)"
            ]
          },
          "metadata": {
            "tags": []
          },
          "execution_count": 9
        }
      ]
    },
    {
      "cell_type": "markdown",
      "metadata": {
        "id": "DvVM9vEGpfbu",
        "colab_type": "text"
      },
      "source": [
        "【課題】\n",
        "\n",
        "　自分が用意した画像に対して、輪郭線抽出と多角形近似のプログラムを実行してみなさい。\n"
      ]
    },
    {
      "cell_type": "code",
      "metadata": {
        "id": "pTSelq7kkZHB",
        "colab_type": "code",
        "colab": {}
      },
      "source": [
        ""
      ],
      "execution_count": 0,
      "outputs": []
    }
  ]
}