{
  "nbformat": 4,
  "nbformat_minor": 0,
  "metadata": {
    "colab": {
      "name": "NintendoARCards.ipynb",
      "provenance": [],
      "collapsed_sections": [],
      "toc_visible": true,
      "include_colab_link": true
    },
    "kernelspec": {
      "name": "python3",
      "display_name": "Python 3"
    }
  },
  "cells": [
    {
      "cell_type": "markdown",
      "metadata": {
        "id": "view-in-github",
        "colab_type": "text"
      },
      "source": [
        "<a href=\"https://colab.research.google.com/github/iciromaco/Semi3A/blob/master/NintendoARCards.ipynb\" target=\"_parent\"><img src=\"https://colab.research.google.com/assets/colab-badge.svg\" alt=\"Open In Colab\"/></a>"
      ]
    },
    {
      "cell_type": "markdown",
      "metadata": {
        "id": "MOdKigXhmqFO",
        "colab_type": "text"
      },
      "source": [
        "# Nintendo の ARCardの画像データの生成\n",
        "\n",
        "任天堂の公開されているARカードのデータを実験用に画像データ化するプログラム"
      ]
    },
    {
      "cell_type": "markdown",
      "metadata": {
        "id": "Mxpeq7GHU7ct",
        "colab_type": "text"
      },
      "source": [
        "# pdf2image と poppler のインストール"
      ]
    },
    {
      "cell_type": "code",
      "metadata": {
        "id": "_k2aQ1xoQQan",
        "colab_type": "code",
        "outputId": "e98c591f-745e-42c2-cded-b8527888542b",
        "colab": {
          "base_uri": "https://localhost:8080/",
          "height": 627
        }
      },
      "source": [
        "!pip install pdf2image\n",
        "!apt install poppler-utils poppler-data"
      ],
      "execution_count": 1,
      "outputs": [
        {
          "output_type": "stream",
          "text": [
            "Collecting pdf2image\n",
            "  Downloading https://files.pythonhosted.org/packages/c6/62/bf2df0547cf4e216b329a9d39a7aa6c755f02071e63e17a4b76690ebfe20/pdf2image-1.13.1-py3-none-any.whl\n",
            "Requirement already satisfied: pillow in /usr/local/lib/python3.6/dist-packages (from pdf2image) (7.0.0)\n",
            "Installing collected packages: pdf2image\n",
            "Successfully installed pdf2image-1.13.1\n",
            "Reading package lists... Done\n",
            "Building dependency tree       \n",
            "Reading state information... Done\n",
            "The following package was automatically installed and is no longer required:\n",
            "  libnvidia-common-440\n",
            "Use 'apt autoremove' to remove it.\n",
            "Suggested packages:\n",
            "  ghostscript fonts-japanese-mincho | fonts-ipafont-mincho\n",
            "  fonts-japanese-gothic | fonts-ipafont-gothic fonts-arphic-ukai\n",
            "  fonts-arphic-uming fonts-nanum\n",
            "The following NEW packages will be installed:\n",
            "  poppler-data poppler-utils\n",
            "0 upgraded, 2 newly installed, 0 to remove and 43 not upgraded.\n",
            "Need to get 1,633 kB of archives.\n",
            "After this operation, 13.1 MB of additional disk space will be used.\n",
            "Get:1 http://archive.ubuntu.com/ubuntu bionic/main amd64 poppler-data all 0.4.8-2 [1,479 kB]\n",
            "Get:2 http://archive.ubuntu.com/ubuntu bionic-updates/main amd64 poppler-utils amd64 0.62.0-2ubuntu2.10 [154 kB]\n",
            "Fetched 1,633 kB in 1s (1,515 kB/s)\n",
            "Selecting previously unselected package poppler-data.\n",
            "(Reading database ... 144328 files and directories currently installed.)\n",
            "Preparing to unpack .../poppler-data_0.4.8-2_all.deb ...\n",
            "Unpacking poppler-data (0.4.8-2) ...\n",
            "Selecting previously unselected package poppler-utils.\n",
            "Preparing to unpack .../poppler-utils_0.62.0-2ubuntu2.10_amd64.deb ...\n",
            "Unpacking poppler-utils (0.62.0-2ubuntu2.10) ...\n",
            "Setting up poppler-utils (0.62.0-2ubuntu2.10) ...\n",
            "Setting up poppler-data (0.4.8-2) ...\n",
            "Processing triggers for fontconfig (2.12.6-0ubuntu2) ...\n",
            "Processing triggers for man-db (2.8.3-2ubuntu0.1) ...\n"
          ],
          "name": "stdout"
        }
      ]
    },
    {
      "cell_type": "code",
      "metadata": {
        "id": "q6OkkbArQJrH",
        "colab_type": "code",
        "colab": {}
      },
      "source": [
        "import os\n",
        "from pdf2image import convert_from_path\n",
        "import numpy as np\n",
        "import urllib.request\n",
        "import cv2\n",
        "from google.colab.patches import cv2_imshow\n",
        "fname = \"arcard\"\n",
        "pdfname = fname+\".pdf\"\n",
        "url = 'https://www.nintendo.co.jp/support/3ds/pdf/3ds_arcard.pdf?_ga=2.223029147.1069627371.1591664344-847263550.1591664344'\n",
        "urllib.request.urlretrieve(url, pdfname)\n",
        "\n",
        "DPI = 100\n",
        "\n",
        "images = convert_from_path(pdfname,dpi=DPI)\n",
        "images[0].save(fname+\".png\", \"png\")\n",
        "# images[0] 画像の確認がしたければ、コメントを外す"
      ],
      "execution_count": 0,
      "outputs": []
    },
    {
      "cell_type": "markdown",
      "metadata": {
        "id": "jJXR0S7hXTeO",
        "colab_type": "text"
      },
      "source": [
        "# ２階調化"
      ]
    },
    {
      "cell_type": "code",
      "metadata": {
        "id": "udI-gTuSQyBr",
        "colab_type": "code",
        "outputId": "f47dc08a-452c-48c9-be9d-dd681d549e65",
        "colab": {
          "base_uri": "https://localhost:8080/",
          "height": 1000
        }
      },
      "source": [
        "img = np.array(images[0])[:,:,::-1]# OpenCV 形式に変換\n",
        "gry = cv2.cvtColor(img,cv2.COLOR_BGR2GRAY)\n",
        "ret,bw = cv2.threshold(gry,0,255,cv2.THRESH_BINARY_INV+cv2.THRESH_OTSU)\n",
        "cv2_imshow(bw)"
      ],
      "execution_count": 3,
      "outputs": [
        {
          "output_type": "display_data",
          "data": {
            "image/png": "[encoded data removed]",
            "text/plain": [
              "<PIL.Image.Image image mode=L size=827x1170 at 0x7F55BA7BFDA0>"
            ]
          },
          "metadata": {
            "tags": []
          }
        }
      ]
    },
    {
      "cell_type": "markdown",
      "metadata": {
        "id": "hFT6-G1kZ8qs",
        "colab_type": "text"
      },
      "source": [
        "# 収縮膨張でノイズ除去"
      ]
    },
    {
      "cell_type": "code",
      "metadata": {
        "id": "z5VQB5-QZkfd",
        "colab_type": "code",
        "outputId": "be8d2df7-f578-4848-d934-8df5e67e1a96",
        "colab": {
          "base_uri": "https://localhost:8080/",
          "height": 1000
        }
      },
      "source": [
        "# noise removal\n",
        "kernel = np.ones((3,3),np.uint8)\n",
        "bw = cv2.morphologyEx(bw,cv2.MORPH_OPEN,kernel, iterations = 1)\n",
        "cv2_imshow(bw)"
      ],
      "execution_count": 4,
      "outputs": [
        {
          "output_type": "display_data",
          "data": {
            "image/png": "[encoded data removed]",
            "text/plain": [
              "<PIL.Image.Image image mode=L size=827x1170 at 0x7F55C43F4048>"
            ]
          },
          "metadata": {
            "tags": []
          }
        }
      ]
    },
    {
      "cell_type": "code",
      "metadata": {
        "id": "3mGd6tTsSOh8",
        "colab_type": "code",
        "colab": {}
      },
      "source": [
        "# ラベリング処理\n",
        "nlabels, labels, stats, centroids = cv2.connectedComponentsWithStats(bw)"
      ],
      "execution_count": 0,
      "outputs": []
    },
    {
      "cell_type": "markdown",
      "metadata": {
        "id": "nwtDzbmeaycl",
        "colab_type": "text"
      },
      "source": [
        "- nlables はラベル数＝領域数（背景分の１を含む）  \n",
        "- labels は　各画素の画素値としてラベル番号が割り当てられた画像  \n",
        "- stats は各ラベルの矩形領域の左上の座標と幅、高さ、面積のデータ　　　　\n",
        "- centroids は各連結成分の重心位置"
      ]
    },
    {
      "cell_type": "code",
      "metadata": {
        "id": "YL8nlu-ZTs7v",
        "colab_type": "code",
        "outputId": "f53a5903-686b-49f9-bfbf-ffdc06cc52ae",
        "colab": {
          "base_uri": "https://localhost:8080/",
          "height": 1000
        }
      },
      "source": [
        "stats"
      ],
      "execution_count": 6,
      "outputs": [
        {
          "output_type": "execute_result",
          "data": {
            "text/plain": [
              "array([[     0,      0,    827,   1170, 693879],\n",
              "       [   107,     80,     13,     24,    173],\n",
              "       [   122,     81,      3,     17,     51],\n",
              "       [   124,     80,      7,     24,    102],\n",
              "       [   134,     80,     23,     24,    365],\n",
              "       [   162,     80,     23,     23,    157],\n",
              "       [   189,     81,     24,     21,    270],\n",
              "       [   218,     80,     22,     24,    247],\n",
              "       [   244,     80,     23,      7,    111],\n",
              "       [    84,     82,     15,      7,     66],\n",
              "       [   217,     86,      5,      5,     20],\n",
              "       [   244,     88,     23,     15,    206],\n",
              "       [    82,     93,     20,      9,     83],\n",
              "       [   217,     94,      6,      8,     30],\n",
              "       [   161,    128,      5,      5,     21],\n",
              "       [   100,    132,      4,      3,     12],\n",
              "       [   124,    151,      5,      4,     20],\n",
              "       [   156,    151,      4,      4,     16],\n",
              "       [   160,    170,      4,      5,     20],\n",
              "       [   165,    170,      4,      3,     12],\n",
              "       [   139,    187,      3,      4,     12],\n",
              "       [   165,    186,      4,      4,     15],\n",
              "       [   161,    189,      3,      3,      9],\n",
              "       [   246,    205,      5,      8,     38],\n",
              "       [   257,    205,      8,      9,     70],\n",
              "       [   343,    205,      8,      5,     26],\n",
              "       [   214,    206,      3,      5,     15],\n",
              "       [   218,    208,      5,      3,     15],\n",
              "       [   375,    209,      3,      4,     12],\n",
              "       [   417,    209,      4,      4,     16],\n",
              "       [   203,    210,      6,      4,     20],\n",
              "       [   301,    226,      3,      3,      9],\n",
              "       [   380,    243,      3,      3,      9],\n",
              "       [   407,    243,      6,      9,     27],\n",
              "       [   355,    244,      3,      6,     18],\n",
              "       [   141,    247,      4,      5,     19],\n",
              "       [   195,    247,      4,      4,     16],\n",
              "       [   375,    247,      5,      5,     23],\n",
              "       [   403,    263,      4,      8,     30],\n",
              "       [   239,    266,      5,      5,     23],\n",
              "       [   460,    266,      5,      5,     23],\n",
              "       [   192,    269,      3,      3,      9],\n",
              "       [   309,    282,      5,      9,     40],\n",
              "       [   441,    283,      3,      3,      9],\n",
              "       [   281,    284,      3,      3,      9],\n",
              "       [   631,    284,      8,      6,     40],\n",
              "       [   213,    286,      3,      4,     12],\n",
              "       [   427,    286,      9,      5,     39],\n",
              "       [   319,    387,    181,    290,  48944],\n",
              "       [    78,    389,    181,    290,  33384],\n",
              "       [   562,    388,    181,    289,  45961],\n",
              "       [   418,    439,      7,      7,     35],\n",
              "       [   437,    441,      9,     13,     85],\n",
              "       [   430,    444,      3,      3,      9],\n",
              "       [   139,    463,     40,     39,    689],\n",
              "       [   647,    464,     27,     29,    335],\n",
              "       [   169,    472,     39,     60,    881],\n",
              "       [   419,    473,     15,     11,    116],\n",
              "       [   642,    478,      3,      4,     12],\n",
              "       [   633,    486,      6,      5,     18],\n",
              "       [   656,    499,      3,      3,      9],\n",
              "       [   169,    541,     20,     20,    300],\n",
              "       [    79,    778,    181,    290,  40527],\n",
              "       [   320,    780,    181,    290,  49037],\n",
              "       [   562,    781,    181,    290,  47223],\n",
              "       [   632,    837,      3,      4,     12],\n",
              "       [   100,    855,     13,     24,    167],\n",
              "       [   176,    859,     15,     30,    323],\n",
              "       [   150,    862,     14,     27,    295],\n",
              "       [   633,    865,      9,      8,     44],\n",
              "       [   131,    881,     18,     12,    166],\n",
              "       [   192,    881,     18,     12,    167],\n",
              "       [   163,    887,     14,     15,    160],\n",
              "       [   217,    896,     21,     20,    164],\n",
              "       [   694,    902,      5,      6,     25],\n",
              "       [   668,    904,      6,      5,     28],\n",
              "       [   117,    906,    102,     41,   1886],\n",
              "       [   588,    925,      5,      5,     23],\n",
              "       [   610,    925,      6,      5,     26],\n",
              "       [   604,    931,      6,      6,     28],\n",
              "       [   669,    948,      4,      5,     20],\n",
              "       [   651,    967,      6,      5,     27]], dtype=int32)"
            ]
          },
          "metadata": {
            "tags": []
          },
          "execution_count": 6
        }
      ]
    },
    {
      "cell_type": "code",
      "metadata": {
        "id": "yASR1iY1U00C",
        "colab_type": "code",
        "outputId": "11c054fa-e8b8-4327-d130-22cc9227f4be",
        "colab": {
          "base_uri": "https://localhost:8080/",
          "height": 208
        }
      },
      "source": [
        "areas = stats[:,4] # 面積のデータのみ抜き出す\n",
        "areas"
      ],
      "execution_count": 7,
      "outputs": [
        {
          "output_type": "execute_result",
          "data": {
            "text/plain": [
              "array([693879,    173,     51,    102,    365,    157,    270,    247,\n",
              "          111,     66,     20,    206,     83,     30,     21,     12,\n",
              "           20,     16,     20,     12,     12,     15,      9,     38,\n",
              "           70,     26,     15,     15,     12,     16,     20,      9,\n",
              "            9,     27,     18,     19,     16,     23,     30,     23,\n",
              "           23,      9,     40,      9,      9,     40,     12,     39,\n",
              "        48944,  33384,  45961,     35,     85,      9,    689,    335,\n",
              "          881,    116,     12,     18,      9,    300,  40527,  49037,\n",
              "        47223,     12,    167,    323,    295,     44,    166,    167,\n",
              "          160,    164,     25,     28,   1886,     23,     26,     28,\n",
              "           20,     27], dtype=int32)"
            ]
          },
          "metadata": {
            "tags": []
          },
          "execution_count": 7
        }
      ]
    },
    {
      "cell_type": "code",
      "metadata": {
        "id": "F6BeOmV8WtyX",
        "colab_type": "code",
        "outputId": "998cc44b-a966-4ee2-9559-3f61dfefdd79",
        "colab": {
          "base_uri": "https://localhost:8080/",
          "height": 104
        }
      },
      "source": [
        "# 面積の大きい順にインデックスを並べる\n",
        "sareas  = np.argsort(areas)[::-1]\n",
        "sareas"
      ],
      "execution_count": 8,
      "outputs": [
        {
          "output_type": "execute_result",
          "data": {
            "text/plain": [
              "array([ 0, 63, 48, 64, 50, 62, 49, 76, 56, 54,  4, 55, 67, 61, 68,  6,  7,\n",
              "       11,  1, 66, 71, 70, 73, 72,  5, 57,  8,  3, 52, 12, 24,  9,  2, 69,\n",
              "       42, 45, 47, 23, 51, 13, 38, 79, 75, 33, 81, 25, 78, 74, 40, 37, 77,\n",
              "       39, 14, 10, 16, 80, 18, 30, 35, 34, 59, 36, 29, 17, 27, 26, 21, 15,\n",
              "       28, 19, 20, 46, 58, 65, 41, 44, 53, 60, 31, 32, 22, 43])"
            ]
          },
          "metadata": {
            "tags": []
          },
          "execution_count": 8
        }
      ]
    },
    {
      "cell_type": "code",
      "metadata": {
        "id": "z3LawnE_bLFB",
        "colab_type": "code",
        "colab": {}
      },
      "source": [
        "# カードの白領域のインデックス\n",
        "cardareas = sareas[1:7]"
      ],
      "execution_count": 0,
      "outputs": []
    },
    {
      "cell_type": "code",
      "metadata": {
        "id": "fS2lqrTYeOc6",
        "colab_type": "code",
        "outputId": "0b59a252-8ba2-4684-9a93-6511d16aca00",
        "colab": {
          "base_uri": "https://localhost:8080/",
          "height": 121
        }
      },
      "source": [
        "cardimgs = [None]*6\n",
        "for i in range(6):\n",
        "  x1,y1,w,h = stats[cardareas[i]][:4]\n",
        "  cardimgs[i] = img[y1:y1+h,x1:x1+w,:]\n",
        "  print(cardimgs[i].shape)"
      ],
      "execution_count": 10,
      "outputs": [
        {
          "output_type": "stream",
          "text": [
            "(290, 181, 3)\n",
            "(290, 181, 3)\n",
            "(290, 181, 3)\n",
            "(289, 181, 3)\n",
            "(290, 181, 3)\n",
            "(290, 181, 3)\n"
          ],
          "name": "stdout"
        }
      ]
    },
    {
      "cell_type": "markdown",
      "metadata": {
        "id": "GTimjB8TlhMl",
        "colab_type": "text"
      },
      "source": [
        "# 大きさを統一して出力"
      ]
    },
    {
      "cell_type": "code",
      "metadata": {
        "id": "t48y2Bvfk45e",
        "colab_type": "code",
        "outputId": "c3b8146c-7d1c-4ca0-ada8-af820ae36749",
        "colab": {
          "base_uri": "https://localhost:8080/",
          "height": 112
        }
      },
      "source": [
        "import matplotlib.pyplot as plt\n",
        "h = int(cardimgs[0].shape[0]*0.783)\n",
        "# Nintendo マークを特徴抽出対象から外すために、高さを 0.783 倍でカット\n",
        "arcards = [None]*6\n",
        "for i in range(6):\n",
        "    arcards[i]=cardimgs[i][0:h,:,:]\n",
        "    cv2.imwrite(\"ar\"+str(i)+\".png\",arcards[i])\n",
        "    plt.subplot(1,6,i+1)\n",
        "    plt.imshow(arcards[i][:,:,::-1])"
      ],
      "execution_count": 11,
      "outputs": [
        {
          "output_type": "display_data",
          "data": {
            "image/png": "[encoded data removed]",
            "text/plain": [
              "<Figure size 432x288 with 6 Axes>"
            ]
          },
          "metadata": {
            "tags": [],
            "needs_background": "light"
          }
        }
      ]
    },
    {
      "cell_type": "markdown",
      "metadata": {
        "id": "gY0BZhDklJU9",
        "colab_type": "text"
      },
      "source": [
        "# Zipアーカイブの作成\n",
        "ひとつずつダウンロードするのは面倒なので、zipファイル一つにまとめる"
      ]
    },
    {
      "cell_type": "code",
      "metadata": {
        "id": "4Jgmha75oqH_",
        "colab_type": "code",
        "colab": {}
      },
      "source": [
        "import zipfile\n",
        "with zipfile.ZipFile('ar.zip','w') as myzip:\n",
        "    for i in range(6):\n",
        "      fn = \"ar\"+str(i)+\".png\"\n",
        "      myzip.write(fn,fn)"
      ],
      "execution_count": 0,
      "outputs": []
    },
    {
      "cell_type": "code",
      "metadata": {
        "id": "IK8SEaRpjp5B",
        "colab_type": "code",
        "colab": {}
      },
      "source": [
        ""
      ],
      "execution_count": 0,
      "outputs": []
    }
  ]
}