{
  "nbformat": 4,
  "nbformat_minor": 0,
  "metadata": {
    "colab": {
      "name": "NintendoARCards.ipynb",
      "provenance": [],
      "toc_visible": true,
      "authorship_tag": "ABX9TyO9Dfe6XRhjMvWR7DB+8PS8",
      "include_colab_link": true
    },
    "kernelspec": {
      "name": "python3",
      "display_name": "Python 3"
    }
  },
  "cells": [
    {
      "cell_type": "markdown",
      "metadata": {
        "id": "view-in-github",
        "colab_type": "text"
      },
      "source": [
        "<a href=\"https://colab.research.google.com/github/iciromaco/Semi3A/blob/master/NintendoARCards.ipynb\" target=\"_parent\"><img src=\"https://colab.research.google.com/assets/colab-badge.svg\" alt=\"Open In Colab\"/></a>"
      ]
    },
    {
      "cell_type": "markdown",
      "metadata": {
        "id": "MOdKigXhmqFO",
        "colab_type": "text"
      },
      "source": [
        "# Nintendo の ARCardの画像データの生成\n",
        "\n",
        "任天堂の公開されているARカードのデータを実験用に画像データ化するプログラム"
      ]
    },
    {
      "cell_type": "markdown",
      "metadata": {
        "id": "Mxpeq7GHU7ct",
        "colab_type": "text"
      },
      "source": [
        "# pdf2image と poppler のインストール"
      ]
    },
    {
      "cell_type": "code",
      "metadata": {
        "id": "_k2aQ1xoQQan",
        "colab_type": "code",
        "outputId": "4fc9f264-c99c-4a6b-89fb-e2e088776bc0",
        "colab": {
          "base_uri": "https://localhost:8080/",
          "height": 204
        }
      },
      "source": [
        "!pip install pdf2image\n",
        "!apt install poppler-utils poppler-data"
      ],
      "execution_count": 1,
      "outputs": [
        {
          "output_type": "stream",
          "text": [
            "Requirement already satisfied: pdf2image in /usr/local/lib/python3.6/dist-packages (1.13.1)\n",
            "Requirement already satisfied: pillow in /usr/local/lib/python3.6/dist-packages (from pdf2image) (7.0.0)\n",
            "Reading package lists... Done\n",
            "Building dependency tree       \n",
            "Reading state information... Done\n",
            "poppler-data is already the newest version (0.4.8-2).\n",
            "poppler-utils is already the newest version (0.62.0-2ubuntu2.10).\n",
            "The following package was automatically installed and is no longer required:\n",
            "  libnvidia-common-440\n",
            "Use 'apt autoremove' to remove it.\n",
            "0 upgraded, 0 newly installed, 0 to remove and 43 not upgraded.\n"
          ],
          "name": "stdout"
        }
      ]
    },
    {
      "cell_type": "code",
      "metadata": {
        "id": "q6OkkbArQJrH",
        "colab_type": "code",
        "colab": {}
      },
      "source": [
        "import os\n",
        "from pdf2image import convert_from_path\n",
        "import numpy as np\n",
        "import urllib.request\n",
        "import cv2\n",
        "from google.colab.patches import cv2_imshow\n",
        "fname = \"arcard\"\n",
        "pdfname = fname+\".pdf\"\n",
        "url = 'https://www.nintendo.co.jp/support/3ds/pdf/3ds_arcard.pdf?_ga=2.223029147.1069627371.1591664344-847263550.1591664344'\n",
        "urllib.request.urlretrieve(url, pdfname)\n",
        "\n",
        "DPI = 50\n",
        "\n",
        "images = convert_from_path(pdfname,dpi=DPI)\n",
        "images[0].save(fname+\".png\", \"png\")\n",
        "# images[0] 画像の確認がしたければ、コメントを外す"
      ],
      "execution_count": 0,
      "outputs": []
    },
    {
      "cell_type": "markdown",
      "metadata": {
        "id": "jJXR0S7hXTeO",
        "colab_type": "text"
      },
      "source": [
        "# ２階調化"
      ]
    },
    {
      "cell_type": "code",
      "metadata": {
        "id": "udI-gTuSQyBr",
        "colab_type": "code",
        "outputId": "95083749-13a9-4fe7-b93b-9b42af8079aa",
        "colab": {
          "base_uri": "https://localhost:8080/",
          "height": 602
        }
      },
      "source": [
        "img = np.array(images[0])[:,:,::-1]# OpenCV 形式に変換\n",
        "gry = cv2.cvtColor(img,cv2.COLOR_BGR2GRAY)\n",
        "ret,bw = cv2.threshold(gry,0,255,cv2.THRESH_BINARY_INV+cv2.THRESH_OTSU)\n",
        "cv2_imshow(bw)"
      ],
      "execution_count": 3,
      "outputs": [
        {
          "output_type": "display_data",
          "data": {
            "image/png": "[encoded data removed]",
            "text/plain": [
              "<PIL.Image.Image image mode=L size=414x585 at 0x7FA8AB2644A8>"
            ]
          },
          "metadata": {
            "tags": []
          }
        }
      ]
    },
    {
      "cell_type": "markdown",
      "metadata": {
        "id": "hFT6-G1kZ8qs",
        "colab_type": "text"
      },
      "source": [
        "# 収縮膨張でノイズ除去"
      ]
    },
    {
      "cell_type": "code",
      "metadata": {
        "id": "z5VQB5-QZkfd",
        "colab_type": "code",
        "outputId": "78a4d215-5718-4d29-db9d-bf35ee1234e6",
        "colab": {
          "base_uri": "https://localhost:8080/",
          "height": 602
        }
      },
      "source": [
        "# noise removal\n",
        "kernel = np.ones((3,3),np.uint8)\n",
        "bw = cv2.morphologyEx(bw,cv2.MORPH_OPEN,kernel, iterations = 1)\n",
        "cv2_imshow(bw)"
      ],
      "execution_count": 4,
      "outputs": [
        {
          "output_type": "display_data",
          "data": {
            "image/png": "[encoded data removed]",
            "text/plain": [
              "<PIL.Image.Image image mode=L size=414x585 at 0x7FA8AB2641D0>"
            ]
          },
          "metadata": {
            "tags": []
          }
        }
      ]
    },
    {
      "cell_type": "code",
      "metadata": {
        "id": "3mGd6tTsSOh8",
        "colab_type": "code",
        "colab": {}
      },
      "source": [
        "# ラベリング処理\n",
        "nlabels, labels, stats, centroids = cv2.connectedComponentsWithStats(bw)"
      ],
      "execution_count": 0,
      "outputs": []
    },
    {
      "cell_type": "markdown",
      "metadata": {
        "id": "nwtDzbmeaycl",
        "colab_type": "text"
      },
      "source": [
        "- nlables はラベル数＝領域数（背景分の１を含む）  \n",
        "- labels は　各画素の画素値としてラベル番号が割り当てられた画像  \n",
        "- stats は各ラベルの矩形領域の左上の座標と幅、高さ、面積のデータ　　　　\n",
        "- centroids は各連結成分の重心位置"
      ]
    },
    {
      "cell_type": "code",
      "metadata": {
        "id": "YL8nlu-ZTs7v",
        "colab_type": "code",
        "outputId": "d75ca0aa-f1b5-4696-b332-801754cf01b3",
        "colab": {
          "base_uri": "https://localhost:8080/",
          "height": 1000
        }
      },
      "source": [
        "stats"
      ],
      "execution_count": 6,
      "outputs": [
        {
          "output_type": "execute_result",
          "data": {
            "text/plain": [
              "array([[     0,      0,    414,    585, 173805],\n",
              "       [    45,     41,      3,      3,      9],\n",
              "       [   114,     41,      3,      3,      9],\n",
              "       [   122,     40,     11,     12,    118],\n",
              "       [    55,     43,      4,      5,     20],\n",
              "       [    48,     64,      4,      4,     16],\n",
              "       [    80,     64,      4,      4,     16],\n",
              "       [    62,     74,      4,      4,     16],\n",
              "       [    78,     74,      5,      4,     18],\n",
              "       [    80,     83,      5,      4,     20],\n",
              "       [    81,     93,      3,      3,      9],\n",
              "       [   139,     93,      4,      4,     16],\n",
              "       [   155,     93,      4,      3,     12],\n",
              "       [    96,    103,      4,      4,     16],\n",
              "       [   102,    103,      4,      4,     16],\n",
              "       [   107,    103,      4,      3,     12],\n",
              "       [   123,    103,      3,      4,     12],\n",
              "       [   128,    102,      5,      5,     22],\n",
              "       [   172,    102,      3,      3,      9],\n",
              "       [   187,    103,      3,      4,     12],\n",
              "       [   209,    102,      4,      4,     15],\n",
              "       [   123,    112,      3,      4,     12],\n",
              "       [    64,    123,      5,      3,     15],\n",
              "       [    71,    122,      3,      4,     12],\n",
              "       [    97,    122,      3,      4,     12],\n",
              "       [   171,    122,      4,      3,     12],\n",
              "       [   176,    122,      5,      4,     19],\n",
              "       [   187,    122,      4,      4,     16],\n",
              "       [    64,    133,      3,      3,      9],\n",
              "       [    96,    132,      4,      4,     16],\n",
              "       [   119,    133,      3,      3,      9],\n",
              "       [   201,    132,      4,      4,     16],\n",
              "       [   230,    132,      3,      4,     12],\n",
              "       [   123,    141,      3,      4,     12],\n",
              "       [   144,    141,      4,      3,     12],\n",
              "       [   155,    141,      4,      4,     15],\n",
              "       [   161,    141,      3,      3,      9],\n",
              "       [   198,    141,      4,      3,     12],\n",
              "       [   214,    141,      3,      4,     12],\n",
              "       [   316,    141,      3,      4,     12],\n",
              "       [   139,    142,      4,      3,     12],\n",
              "       [   160,    193,     90,    145,  12202],\n",
              "       [    39,    195,     91,    144,   8369],\n",
              "       [   281,    194,     91,    145,  11606],\n",
              "       [   208,    219,      4,      4,     15],\n",
              "       [   220,    219,      3,      3,      9],\n",
              "       [   217,    223,      5,      4,     17],\n",
              "       [    69,    231,     20,     20,    175],\n",
              "       [   327,    235,     10,     11,     77],\n",
              "       [    84,    236,     20,     30,    231],\n",
              "       [    84,    271,     10,      9,     65],\n",
              "       [    40,    389,     90,    145,  10573],\n",
              "       [   160,    390,     90,    145,  12241],\n",
              "       [   281,    390,     91,    145,  11888],\n",
              "       [    88,    433,      8,     12,     78],\n",
              "       [    75,    434,      7,     11,     69],\n",
              "       [    66,    441,      8,      5,     38],\n",
              "       [    97,    441,      8,      5,     38],\n",
              "       [    82,    444,      7,      7,     45]], dtype=int32)"
            ]
          },
          "metadata": {
            "tags": []
          },
          "execution_count": 6
        }
      ]
    },
    {
      "cell_type": "code",
      "metadata": {
        "id": "yASR1iY1U00C",
        "colab_type": "code",
        "outputId": "667f2903-8eaf-48c8-d4ad-ef6e951d7a13",
        "colab": {
          "base_uri": "https://localhost:8080/",
          "height": 153
        }
      },
      "source": [
        "areas = stats[:,4] # 面積のデータのみ抜き出す\n",
        "areas"
      ],
      "execution_count": 7,
      "outputs": [
        {
          "output_type": "execute_result",
          "data": {
            "text/plain": [
              "array([173805,      9,      9,    118,     20,     16,     16,     16,\n",
              "           18,     20,      9,     16,     12,     16,     16,     12,\n",
              "           12,     22,      9,     12,     15,     12,     15,     12,\n",
              "           12,     12,     19,     16,      9,     16,      9,     16,\n",
              "           12,     12,     12,     15,      9,     12,     12,     12,\n",
              "           12,  12202,   8369,  11606,     15,      9,     17,    175,\n",
              "           77,    231,     65,  10573,  12241,  11888,     78,     69,\n",
              "           38,     38,     45], dtype=int32)"
            ]
          },
          "metadata": {
            "tags": []
          },
          "execution_count": 7
        }
      ]
    },
    {
      "cell_type": "code",
      "metadata": {
        "id": "F6BeOmV8WtyX",
        "colab_type": "code",
        "outputId": "36f285fa-f3b5-4e6f-a700-a2f2289da214",
        "colab": {
          "base_uri": "https://localhost:8080/",
          "height": 85
        }
      },
      "source": [
        "# 面積の大きい順にインデックスを並べる\n",
        "sareas  = np.argsort(areas)[::-1]\n",
        "sareas"
      ],
      "execution_count": 8,
      "outputs": [
        {
          "output_type": "execute_result",
          "data": {
            "text/plain": [
              "array([ 0, 52, 41, 53, 43, 51, 42, 49, 47,  3, 54, 48, 55, 50, 58, 56, 57,\n",
              "       17,  9,  4, 26,  8, 46, 31, 27, 14, 29, 13, 11,  7,  6,  5, 22, 20,\n",
              "       44, 35, 23, 32, 40, 39, 38, 37, 34, 24, 12, 33, 15, 16, 19, 25, 21,\n",
              "       30, 10, 28, 36, 18, 45,  2,  1])"
            ]
          },
          "metadata": {
            "tags": []
          },
          "execution_count": 8
        }
      ]
    },
    {
      "cell_type": "code",
      "metadata": {
        "id": "z3LawnE_bLFB",
        "colab_type": "code",
        "colab": {}
      },
      "source": [
        "# カードの白領域のインデックス\n",
        "cardareas = sareas[1:7]"
      ],
      "execution_count": 0,
      "outputs": []
    },
    {
      "cell_type": "code",
      "metadata": {
        "id": "fS2lqrTYeOc6",
        "colab_type": "code",
        "outputId": "0ba5e862-4ef7-4411-a8bd-de99c09ec8f7",
        "colab": {
          "base_uri": "https://localhost:8080/",
          "height": 119
        }
      },
      "source": [
        "cardimgs = [None]*6\n",
        "for i in range(6):\n",
        "  x1,y1,w,h = stats[cardareas[i]][:4]\n",
        "  cardimgs[i] = img[y1:y1+h,x1:x1+w,:]\n",
        "  print(cardimgs[i].shape)"
      ],
      "execution_count": 10,
      "outputs": [
        {
          "output_type": "stream",
          "text": [
            "(145, 90, 3)\n",
            "(145, 90, 3)\n",
            "(145, 91, 3)\n",
            "(145, 91, 3)\n",
            "(145, 90, 3)\n",
            "(144, 91, 3)\n"
          ],
          "name": "stdout"
        }
      ]
    },
    {
      "cell_type": "markdown",
      "metadata": {
        "id": "GTimjB8TlhMl",
        "colab_type": "text"
      },
      "source": [
        "# 大きさを統一して出力"
      ]
    },
    {
      "cell_type": "code",
      "metadata": {
        "id": "t48y2Bvfk45e",
        "colab_type": "code",
        "colab": {
          "base_uri": "https://localhost:8080/",
          "height": 112
        },
        "outputId": "2d83348b-8207-4b9b-d29a-c6b7e0a9a291"
      },
      "source": [
        "import matplotlib.pyplot as plt\n",
        "h = int(cardimgs[0].shape[0]*0.783)\n",
        "# Nintendo マークを特徴抽出対象から外すために、高さを 0.783 倍でカット\n",
        "arcards = [None]*6\n",
        "for i in range(6):\n",
        "    arcards[i]=cardimgs[i][0:h,:,:]\n",
        "    cv2.imwrite(\"ar\"+str(i)+\".png\",arcards[i])\n",
        "    plt.subplot(1,6,i+1)\n",
        "    plt.imshow(arcards[i][:,:,::-1])"
      ],
      "execution_count": 11,
      "outputs": [
        {
          "output_type": "display_data",
          "data": {
            "image/png": "[encoded data removed]",
            "text/plain": [
              "<Figure size 432x288 with 6 Axes>"
            ]
          },
          "metadata": {
            "tags": [],
            "needs_background": "light"
          }
        }
      ]
    },
    {
      "cell_type": "code",
      "metadata": {
        "id": "4Jgmha75oqH_",
        "colab_type": "code",
        "colab": {}
      },
      "source": [
        ""
      ],
      "execution_count": 0,
      "outputs": []
    }
  ]
}